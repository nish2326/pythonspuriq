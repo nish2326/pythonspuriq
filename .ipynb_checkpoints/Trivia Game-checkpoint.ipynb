{
 "cells": [
  {
   "cell_type": "code",
   "execution_count": 22,
   "metadata": {
    "scrolled": false
   },
   "outputs": [
    {
     "ename": "IndentationError",
     "evalue": "unexpected indent (<ipython-input-22-a8bca9c96fbe>, line 6)",
     "output_type": "error",
     "traceback": [
      "\u001b[0;36m  File \u001b[0;32m\"<ipython-input-22-a8bca9c96fbe>\"\u001b[0;36m, line \u001b[0;32m6\u001b[0m\n\u001b[0;31m    select random question and ask user\u001b[0m\n\u001b[0m    ^\u001b[0m\n\u001b[0;31mIndentationError\u001b[0m\u001b[0;31m:\u001b[0m unexpected indent\n"
     ]
    }
   ],
   "source": [
    "import sqlite3\n",
    "\n",
    "def create():\n",
    "    mydb = sqlite3.connect(\"mydatabase.db\")\n",
    "    mycursor = mydb.cursor()\n",
    "    mycursor.execute(\"CREATE TABLE TriviaQs (id INTEGER PRIMARY KEY, question VARCHAR(255), answer VARCHAR(250), category VARCHAR(255))\")\n",
    "    mydb.close()\n",
    "    \n",
    "def fill():\n",
    "    mydb = sqlite3.connect(\"mydatabase.db\")\n",
    "    mycursor = mydb.cursor()\n",
    "    sql = \"INSERT INTO TriviaQs (Question, Answer, Category) VALUES (?, ?, ?)\"\n",
    "    val = [\n",
    "    ('Captain Americas sheild is made of', 'vibranium', 'marvel'),\n",
    "    ('Who constructed Captain americas shield', 'Howard Stark', 'marvel'),\n",
    "    ('What is the name of Tony Starks personal secratery', 'Pepper Potts', 'marvel'),\n",
    "    ('Who is Thors adopted sybling', 'Loki', 'marvel'),\n",
    "    ('Who is the director of S.H.I.E.L.D', 'Nick Fury', 'marvel'),\n",
    "    ('In Captain America Civil war, who rules Wakanda', 'Black Panther', 'marvel'),\n",
    "    ('What was docter stranges profession before he became Sorcerer Supreme', 'neurosurgeon','marvel'),\n",
    "    ('What does Peter Quill call himself in the movie Guardions of the Galaxy', 'Star-Lord', 'marvel'),\n",
    "    ('What actor plays Ant-Man', 'Paul Rudd', 'marvel'),\n",
    "    ('What actor plays Thor', 'Chris Hemsworth', 'marvel'),\n",
    "    ('F.R.I.D.A.Y is an a.i created by who', 'Tony Stark', 'marvel'),\n",
    "    ('Dr. Strange is played by:', 'Benidict Cumberbatch', 'marvel'),\n",
    "    ]\n",
    "    mycursor.executemany(sql,val)\n",
    "    mydb.commit()\n",
    "    mydb.close()\n",
    "\n",
    "def show():\n",
    "    mydb = sqlite3.connect(\"mydatabase.db\")\n",
    "    mycursor = mydb.cursor()\n",
    "    sql = \"SELECT * FROM TriviaQs\"\n",
    "    mycursor.execute(sql)\n",
    "    myresult = mycursor.fetchall()\n",
    "    for x in myresult:\n",
    "      print(x)\n",
    "    mydb.close()\n",
    "    \n",
    "def delete():\n",
    "    mydb = sqlite3.connect(\"mydatabase.db\")\n",
    "    mycursor = mydb.cursor()\n",
    "    sql = \"DROP TABLE IF EXISTS TriviaQs\"\n",
    "    mycursor.execute(sql)\n",
    "    mydb.close()"
   ]
  },
  {
   "cell_type": "code",
   "execution_count": 15,
   "metadata": {},
   "outputs": [
    {
     "name": "stdout",
     "output_type": "stream",
     "text": [
      "(1, 'Captain Americas sheild is made of', 'vibranium', 'marvel')\n",
      "(2, 'Who constructed Captain americas shield', 'Howard Stark', 'marvel')\n",
      "(3, 'What is the name of Tony Starks personal secratery', 'Pepper Potts', 'marvel')\n",
      "(4, 'Who is Thors adopted sybling', 'Loki', 'marvel')\n",
      "(5, 'Who is the director of S.H.I.E.L.D', 'Nick Fury', 'marvel')\n",
      "(6, 'In Captain America Civil war, who rules Wakanda', 'Black Panther', 'marvel')\n",
      "(7, 'What was docter stranges profession before he became Sorcerer Supreme', 'neurosurgeon', 'marvel')\n",
      "(8, 'What does Peter Quill call himself in the movie Guardions of the Galaxy', 'Star-Lord', 'marvel')\n",
      "(9, 'What actor plays Ant-Man', 'Paul Rudd', 'marvel')\n",
      "(10, 'What actor plays Thor', 'Chris Hemsworth', 'marvel')\n",
      "(11, 'F.R.I.D.A.Y is an a.i created by who', 'Tony Stark', 'marvel')\n",
      "(12, 'Dr. Strange is played by:', 'Benidict Cumberbatch', 'marvel')\n"
     ]
    }
   ],
   "source": [
    "delete()\n",
    "create()\n",
    "fill()\n",
    "show()"
   ]
  },
  {
   "cell_type": "code",
   "execution_count": 36,
   "metadata": {},
   "outputs": [
    {
     "ename": "NameError",
     "evalue": "name 'widget' is not defined",
     "output_type": "error",
     "traceback": [
      "\u001b[0;31m---------------------------------------------------------------------------\u001b[0m",
      "\u001b[0;31mNameError\u001b[0m                                 Traceback (most recent call last)",
      "\u001b[0;32m<ipython-input-36-61fda11d7d1c>\u001b[0m in \u001b[0;36m<module>\u001b[0;34m\u001b[0m\n\u001b[1;32m      4\u001b[0m     \u001b[0mmycursor\u001b[0m\u001b[0;34m.\u001b[0m\u001b[0mexecute\u001b[0m\u001b[0;34m(\u001b[0m\u001b[0msql\u001b[0m\u001b[0;34m,\u001b[0m \u001b[0mval\u001b[0m\u001b[0;34m)\u001b[0m\u001b[0;34m\u001b[0m\u001b[0;34m\u001b[0m\u001b[0m\n\u001b[1;32m      5\u001b[0m     \u001b[0mprint\u001b[0m\u001b[0;34m(\u001b[0m\u001b[0;34m\"val\"\u001b[0m\u001b[0;34m)\u001b[0m\u001b[0;34m\u001b[0m\u001b[0;34m\u001b[0m\u001b[0m\n\u001b[0;32m----> 6\u001b[0;31m \u001b[0mmarvel\u001b[0m \u001b[0;34m=\u001b[0m \u001b[0mwidget\u001b[0m\u001b[0;34m.\u001b[0m\u001b[0mButton\u001b[0m\u001b[0;34m(\u001b[0m\u001b[0mdescription\u001b[0m \u001b[0;34m.\u001b[0m \u001b[0mmarvel\u001b[0m\u001b[0;34m)\u001b[0m\u001b[0;34m\u001b[0m\u001b[0;34m\u001b[0m\u001b[0m\n\u001b[0m\u001b[1;32m      7\u001b[0m \u001b[0;34m\u001b[0m\u001b[0m\n\u001b[1;32m      8\u001b[0m \u001b[0mdisplay\u001b[0m\u001b[0;34m(\u001b[0m\u001b[0mmarvel\u001b[0m\u001b[0;34m)\u001b[0m\u001b[0;34m\u001b[0m\u001b[0;34m\u001b[0m\u001b[0m\n",
      "\u001b[0;31mNameError\u001b[0m: name 'widget' is not defined"
     ]
    }
   ],
   "source": [
    "def game(b):\n",
    "    sql = \"SELECT FROM TriviaQs WHERE Catagory = ?\"\n",
    "    val = [b.description,]\n",
    "    mycursor.execute(sql, val)\n",
    "    print(\"val\")\n",
    "marvel = widget.Button(description . marvel)\n",
    "\n",
    "display(marvel)\n",
    "\n",
    "marvel.on_click(game)\n"
   ]
  },
  {
   "cell_type": "code",
   "execution_count": null,
   "metadata": {},
   "outputs": [],
   "source": []
  }
 ],
 "metadata": {
  "kernelspec": {
   "display_name": "Python 3",
   "language": "python",
   "name": "python3"
  },
  "language_info": {
   "codemirror_mode": {
    "name": "ipython",
    "version": 3
   },
   "file_extension": ".py",
   "mimetype": "text/x-python",
   "name": "python",
   "nbconvert_exporter": "python",
   "pygments_lexer": "ipython3",
   "version": "3.7.3"
  }
 },
 "nbformat": 4,
 "nbformat_minor": 2
}
