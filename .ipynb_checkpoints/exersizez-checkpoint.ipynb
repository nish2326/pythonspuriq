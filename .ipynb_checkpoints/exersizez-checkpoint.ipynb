{
 "cells": [
  {
   "cell_type": "markdown",
   "metadata": {},
   "source": [
    "# SQL and SQLite Exersizezzzzzzzzzzzzzzzzzzzzzzzzzzzzzzzzzzzz"
   ]
  },
  {
   "cell_type": "code",
   "execution_count": 7,
   "metadata": {},
   "outputs": [],
   "source": [
    "import sqlite3\n",
    "\n",
    "def createTable():\n",
    "    mydb = sqlite3.connect(\"mydatabase.db\")\n",
    "    mycursor = mydb.cursor()\n",
    "    mycursor.execute(\"CREATE TABLE FavFoods (id INTEGER PRIMARY KEY, food VARCHAR(255), foodtype VARCHAR(255))\")\n",
    "    mydb.close()\n",
    "\n",
    "def fillTable():\n",
    "    mydb = sqlite3.connect(\"mydatabase.db\")\n",
    "    mycursor = mydb.cursor()\n",
    "    sql = \"INSERT INTO FavFoods (food, foodtype) VALUES (?, ?)\"\n",
    "    val = [\n",
    "    ('pizza', 'Greek'),\n",
    "    ('waffles', 'France'),\n",
    "    ('watermelon', 'Earth'),\n",
    "    ('ice cream', 'Italian'),\n",
    "    ('chocolate', 'Belgium'),\n",
    "    ]\n",
    "    mycursor.executemany(sql, val)\n",
    "    print(mycursor.rowcount)        # check how many rows entered\n",
    "    mydb.commit()\n",
    "    mydb.close()\n",
    "def veiwTable():\n",
    "    mydb = sqlite3.connect(\"mydatabase.db\")\n",
    "    mycursor = mydb.cursor()\n",
    "    sql = \"SELECT * FROM FavFoods ORDER BY Food\"\n",
    "    mycursor.execute(sql)\n",
    "    myresult = mycursor.fetchall()\n",
    "    for x in myresult:\n",
    "      print(x)\n",
    "    mydb.close()\n",
    "    \n",
    "def deleteTable():\n",
    "    mydb = sqlite3.connect(\"mydatabase.db\")\n",
    "    mycursor = mydb.cursor()\n",
    "    sql = \"DROP TABLE IF EXISTS FavFood\"\n",
    "    mycursor.execute(sql)\n",
    "    mydb.close()"
   ]
  },
  {
   "cell_type": "code",
   "execution_count": 17,
   "metadata": {},
   "outputs": [
    {
     "name": "stdout",
     "output_type": "stream",
     "text": [
      "yeet\n"
     ]
    }
   ],
   "source": [
    "def reverseString(string):\n",
    "    revString = \"\"\n",
    "    for letter in string:\n",
    "        revString = letter + revString\n",
    "    return revString\n",
    "print(reverseString(\"teey\"))\n",
    "    "
   ]
  },
  {
   "cell_type": "markdown",
   "metadata": {},
   "source": [
    "# JSON and API"
   ]
  },
  {
   "cell_type": "code",
   "execution_count": 28,
   "metadata": {},
   "outputs": [
    {
     "name": "stdout",
     "output_type": "stream",
     "text": [
      "{'flight_number': 81, 'mission_name': 'STP-2', 'mission_id': [], 'launch_year': '2019', 'launch_date_unix': 1561433400, 'launch_date_utc': '2019-06-25T03:30:00.000Z', 'launch_date_local': '2019-06-24T23:30:00-04:00', 'is_tentative': False, 'tentative_max_precision': 'hour', 'tbd': False, 'launch_window': 14400, 'rocket': {'rocket_id': 'falconheavy', 'rocket_name': 'Falcon Heavy', 'rocket_type': 'FT', 'first_stage': {'cores': [{'core_serial': 'B1057', 'flight': 1, 'block': 5, 'gridfins': True, 'legs': True, 'reused': False, 'land_success': False, 'landing_intent': True, 'landing_type': 'ASDS', 'landing_vehicle': 'OCISLY'}, {'core_serial': 'B1052', 'flight': 2, 'block': 5, 'gridfins': True, 'legs': True, 'reused': True, 'land_success': True, 'landing_intent': True, 'landing_type': 'RTLS', 'landing_vehicle': 'LZ-1'}, {'core_serial': 'B1053', 'flight': 2, 'block': 5, 'gridfins': True, 'legs': True, 'reused': True, 'land_success': True, 'landing_intent': True, 'landing_type': 'RTLS', 'landing_vehicle': 'LZ-2'}]}, 'second_stage': {'block': 5, 'payloads': [{'payload_id': 'DSX', 'norad_id': [44344], 'reused': False, 'customers': ['USAF'], 'nationality': 'United States', 'manufacturer': 'Sierra Nevada Corporation', 'payload_type': 'Satellite', 'payload_mass_kg': 600, 'payload_mass_lbs': 1322.77, 'orbit': 'MEO', 'orbit_params': {'reference_system': 'geocentric', 'regime': 'medium-earth', 'longitude': None, 'semi_major_axis_km': 15397.887, 'eccentricity': 0.1957896, 'periapsis_km': 6005.005, 'apoapsis_km': 12034.498, 'inclination_deg': 42.2061, 'period_min': 316.921, 'lifespan_years': None, 'epoch': '2019-06-27T09:30:01.000Z', 'mean_motion': 4.54371484, 'raan': 202.9685, 'arg_of_pericenter': 0.8719, 'mean_anomaly': 359.4795}}, {'payload_id': 'COSMIC-2', 'norad_id': [], 'reused': False, 'customers': ['NOAA', 'NASA', 'Taiwan'], 'nationality': 'United States', 'manufacturer': 'National Space Organization', 'payload_type': 'Satellite', 'payload_mass_kg': 1668, 'payload_mass_lbs': 3677.3, 'orbit': 'LEO', 'orbit_params': {'reference_system': 'geocentric', 'regime': 'low-earth', 'longitude': None, 'semi_major_axis_km': None, 'eccentricity': None, 'periapsis_km': None, 'apoapsis_km': None, 'inclination_deg': None, 'period_min': None, 'lifespan_years': None, 'epoch': None, 'mean_motion': None, 'raan': None, 'arg_of_pericenter': None, 'mean_anomaly': None}}, {'payload_id': 'GPIM', 'norad_id': [], 'reused': False, 'customers': ['NASA'], 'nationality': 'United States', 'manufacturer': 'Ball Aerospace & Technologies Corp', 'payload_type': 'Satellite', 'payload_mass_kg': 180, 'payload_mass_lbs': 396, 'orbit': 'LEO', 'orbit_params': {'reference_system': 'geocentric', 'regime': 'low-earth', 'longitude': None, 'semi_major_axis_km': None, 'eccentricity': None, 'periapsis_km': None, 'apoapsis_km': None, 'inclination_deg': None, 'period_min': None, 'lifespan_years': None, 'epoch': None, 'mean_motion': None, 'raan': None, 'arg_of_pericenter': None, 'mean_anomaly': None}}, {'payload_id': 'Oculus-ASR', 'norad_id': [], 'reused': False, 'customers': ['Michigan Tech'], 'nationality': 'United States', 'manufacturer': 'Michigan Tech', 'payload_type': 'Satellite', 'payload_mass_kg': 70, 'payload_mass_lbs': 154, 'orbit': 'LEO', 'orbit_params': {'reference_system': 'geocentric', 'regime': 'low-earth', 'longitude': None, 'semi_major_axis_km': None, 'eccentricity': None, 'periapsis_km': None, 'apoapsis_km': None, 'inclination_deg': None, 'period_min': None, 'lifespan_years': None, 'epoch': None, 'mean_motion': None, 'raan': None, 'arg_of_pericenter': None, 'mean_anomaly': None}}, {'payload_id': 'OTB 1', 'norad_id': [], 'reused': False, 'customers': ['General Atomics'], 'nationality': 'United States', 'manufacturer': 'Surrey Satellite Technology-US LLC', 'payload_type': 'Satellite', 'payload_mass_kg': 138, 'payload_mass_lbs': 304, 'orbit': 'LEO', 'orbit_params': {'reference_system': 'geocentric', 'regime': 'low-earth', 'longitude': None, 'semi_major_axis_km': None, 'eccentricity': None, 'periapsis_km': None, 'apoapsis_km': None, 'inclination_deg': None, 'period_min': None, 'lifespan_years': None, 'epoch': None, 'mean_motion': None, 'raan': None, 'arg_of_pericenter': None, 'mean_anomaly': None}}, {'payload_id': 'NPSAT 1', 'norad_id': [], 'reused': False, 'customers': ['Naval Postgrad School'], 'nationality': 'United States', 'manufacturer': 'Naval Postgrad School', 'payload_type': 'Satellite', 'payload_mass_kg': 86, 'payload_mass_lbs': 189, 'orbit': 'LEO', 'orbit_params': {'reference_system': 'geocentric', 'regime': 'low-earth', 'longitude': None, 'semi_major_axis_km': None, 'eccentricity': None, 'periapsis_km': None, 'apoapsis_km': None, 'inclination_deg': None, 'period_min': None, 'lifespan_years': None, 'epoch': None, 'mean_motion': None, 'raan': None, 'arg_of_pericenter': None, 'mean_anomaly': None}}, {'payload_id': 'Prox-1', 'norad_id': [], 'reused': False, 'customers': ['Georgia Tech'], 'nationality': 'United States', 'manufacturer': 'Georgia Tech', 'payload_type': 'Satellite', 'payload_mass_kg': 71, 'payload_mass_lbs': 156, 'orbit': 'LEO', 'orbit_params': {'reference_system': 'geocentric', 'regime': 'low-earth', 'longitude': None, 'semi_major_axis_km': None, 'eccentricity': None, 'periapsis_km': None, 'apoapsis_km': None, 'inclination_deg': None, 'period_min': None, 'lifespan_years': None, 'epoch': None, 'mean_motion': None, 'raan': None, 'arg_of_pericenter': None, 'mean_anomaly': None}}, {'payload_id': 'LightSail-B', 'norad_id': [], 'reused': False, 'customers': ['Planetary Society'], 'nationality': 'United States', 'manufacturer': 'Planetary Society', 'payload_type': 'Satellite', 'payload_mass_kg': 5, 'payload_mass_lbs': 11, 'orbit': 'LEO', 'orbit_params': {'reference_system': 'geocentric', 'regime': 'low-earth', 'longitude': None, 'semi_major_axis_km': None, 'eccentricity': None, 'periapsis_km': None, 'apoapsis_km': None, 'inclination_deg': None, 'period_min': None, 'lifespan_years': None, 'epoch': None, 'mean_motion': None, 'raan': None, 'arg_of_pericenter': None, 'mean_anomaly': None}}, {'payload_id': 'ARMADILLO', 'norad_id': [], 'reused': False, 'customers': ['University of Texas'], 'nationality': 'United States', 'manufacturer': 'University of Texas', 'payload_type': 'Satellite', 'payload_mass_kg': 4, 'payload_mass_lbs': 8.8, 'orbit': 'LEO', 'orbit_params': {'reference_system': 'geocentric', 'regime': 'low-earth', 'longitude': None, 'semi_major_axis_km': None, 'eccentricity': None, 'periapsis_km': None, 'apoapsis_km': None, 'inclination_deg': None, 'period_min': None, 'lifespan_years': None, 'epoch': None, 'mean_motion': None, 'raan': None, 'arg_of_pericenter': None, 'mean_anomaly': None}}, {'payload_id': 'FalconSat 7', 'norad_id': [], 'reused': False, 'customers': ['USAF Academy'], 'nationality': 'United States', 'manufacturer': 'USAF Academy', 'payload_type': 'Satellite', 'payload_mass_kg': 5, 'payload_mass_lbs': 11, 'orbit': 'LEO', 'orbit_params': {'reference_system': 'geocentric', 'regime': 'low-earth', 'longitude': None, 'semi_major_axis_km': None, 'eccentricity': None, 'periapsis_km': None, 'apoapsis_km': None, 'inclination_deg': None, 'period_min': None, 'lifespan_years': None, 'epoch': None, 'mean_motion': None, 'raan': None, 'arg_of_pericenter': None, 'mean_anomaly': None}}, {'payload_id': 'E-TBEx A & B', 'norad_id': [], 'reused': False, 'customers': ['SRI International'], 'nationality': 'United States', 'manufacturer': 'SRI International', 'payload_type': 'Satellite', 'payload_mass_kg': 4, 'payload_mass_lbs': 8.8, 'orbit': 'LEO', 'orbit_params': {'reference_system': 'geocentric', 'regime': 'low-earth', 'longitude': None, 'semi_major_axis_km': None, 'eccentricity': None, 'periapsis_km': None, 'apoapsis_km': None, 'inclination_deg': None, 'period_min': None, 'lifespan_years': None, 'epoch': None, 'mean_motion': None, 'raan': None, 'arg_of_pericenter': None, 'mean_anomaly': None}}, {'payload_id': 'PSat 2', 'norad_id': [], 'reused': False, 'customers': ['US Naval Academy'], 'nationality': 'United States', 'manufacturer': 'US Naval Academy', 'payload_type': 'Satellite', 'payload_mass_kg': 2, 'payload_mass_lbs': 4.4, 'orbit': 'LEO', 'orbit_params': {'reference_system': 'geocentric', 'regime': 'low-earth', 'longitude': None, 'semi_major_axis_km': None, 'eccentricity': None, 'periapsis_km': None, 'apoapsis_km': None, 'inclination_deg': None, 'period_min': None, 'lifespan_years': None, 'epoch': None, 'mean_motion': None, 'raan': None, 'arg_of_pericenter': None, 'mean_anomaly': None}}, {'payload_id': 'BRICSat 2', 'norad_id': [], 'reused': False, 'customers': ['US Naval Academy'], 'nationality': 'United States', 'manufacturer': 'US Naval Academy', 'payload_type': 'Satellite', 'payload_mass_kg': 1, 'payload_mass_lbs': 2.2, 'orbit': 'LEO', 'orbit_params': {'reference_system': 'geocentric', 'regime': 'low-earth', 'longitude': None, 'semi_major_axis_km': None, 'eccentricity': None, 'periapsis_km': None, 'apoapsis_km': None, 'inclination_deg': None, 'period_min': None, 'lifespan_years': None, 'epoch': None, 'mean_motion': None, 'raan': None, 'arg_of_pericenter': None, 'mean_anomaly': None}}, {'payload_id': 'TEPCE 1 & 2', 'norad_id': [], 'reused': False, 'customers': ['Naval Research Lab'], 'nationality': 'United States', 'manufacturer': 'Naval Research Lab', 'payload_type': 'Satellite', 'payload_mass_kg': 1.5, 'payload_mass_lbs': 3.3, 'orbit': 'LEO', 'orbit_params': {'reference_system': 'geocentric', 'regime': 'low-earth', 'longitude': None, 'semi_major_axis_km': None, 'eccentricity': None, 'periapsis_km': None, 'apoapsis_km': None, 'inclination_deg': None, 'period_min': None, 'lifespan_years': None, 'epoch': None, 'mean_motion': None, 'raan': None, 'arg_of_pericenter': None, 'mean_anomaly': None}}, {'payload_id': 'CP9', 'norad_id': [], 'reused': False, 'customers': ['Cal Poly'], 'nationality': 'United States', 'manufacturer': 'Cal Poly', 'payload_type': 'Satellite', 'payload_mass_kg': 1.5, 'payload_mass_lbs': 3.3, 'orbit': 'LEO', 'orbit_params': {'reference_system': 'geocentric', 'regime': 'low-earth', 'longitude': None, 'semi_major_axis_km': None, 'eccentricity': None, 'periapsis_km': None, 'apoapsis_km': None, 'inclination_deg': None, 'period_min': None, 'lifespan_years': None, 'epoch': None, 'mean_motion': None, 'raan': None, 'arg_of_pericenter': None, 'mean_anomaly': None}}, {'payload_id': 'StangSat', 'norad_id': [], 'reused': False, 'customers': ['Merrit Island HS'], 'nationality': 'United States', 'manufacturer': 'Merrit Island HS', 'payload_type': 'Satellite', 'payload_mass_kg': 1, 'payload_mass_lbs': 2.2, 'orbit': 'LEO', 'orbit_params': {'reference_system': 'geocentric', 'regime': 'low-earth', 'longitude': None, 'semi_major_axis_km': None, 'eccentricity': None, 'periapsis_km': None, 'apoapsis_km': None, 'inclination_deg': None, 'period_min': None, 'lifespan_years': None, 'epoch': None, 'mean_motion': None, 'raan': None, 'arg_of_pericenter': None, 'mean_anomaly': None}}]}, 'fairings': {'reused': False, 'recovery_attempt': True, 'recovered': True, 'ship': 'GOMSTREE'}}, 'ships': ['OCISLY', 'GOQUEST', 'GONAVIGATOR', 'GOMSTREE', 'HOLLYWOOD'], 'telemetry': {'flight_club': None}, 'launch_site': {'site_id': 'ksc_lc_39a', 'site_name': 'KSC LC 39A', 'site_name_long': 'Kennedy Space Center Historic Launch Complex 39A'}, 'launch_success': True, 'links': {'mission_patch': 'https://images2.imgbox.com/18/17/gCjLjHbl_o.png', 'mission_patch_small': 'https://images2.imgbox.com/b0/23/BvwaqoS0_o.png', 'reddit_campaign': 'https://www.reddit.com/r/spacex/comments/bw6aa8/stp2_launch_campaign_thread/', 'reddit_launch': 'https://www.reddit.com/r/spacex/comments/c40a29/rspacex_stp2_official_launch_discussion_updates', 'reddit_recovery': None, 'reddit_media': 'https://www.reddit.com/r/spacex/comments/c4ng3a/rspacex_stp2_media_thread_videos_images_gifs', 'presskit': 'https://www.spacex.com/sites/spacex/files/stp-2_press_kit.pdf', 'article_link': 'https://spaceflightnow.com/2019/06/25/falcon-heavy-launches-on-military-led-rideshare-mission-boat-catches-fairing', 'wikipedia': 'https://en.wikipedia.org/wiki/Space_Test_Program', 'video_link': 'https://youtu.be/WxH4CAlhtiQ', 'youtube_id': 'WxH4CAlhtiQ', 'flickr_images': ['https://live.staticflickr.com/65535/48129211778_83c1769305_o.jpg', 'https://live.staticflickr.com/65535/48129211908_8390c775b0_o.jpg', 'https://live.staticflickr.com/65535/48129182836_fd53e5646b_o.jpg', 'https://live.staticflickr.com/65535/48129269897_22d854be5c_o.jpg', 'https://live.staticflickr.com/65535/48129182631_572051790c_o.jpg', 'https://live.staticflickr.com/65535/48129211693_d23b0287f1_o.jpg', 'https://live.staticflickr.com/65535/48129269942_eb9b5c25bc_o.jpg']}, 'details': \"Space Test Program 2 is a rideshare managed by the U.S. Air Force Space and Missile Systems Center (SMC), launching from LC-39A, KSC. Most of the spacecraft will be delivered into low Earth orbit (LEO) in two deployment sequences separated by a second stage burn. These LEO payloads include the six Taiwan and United States owned COSMIC-2 microsatellites, the Planetary Society's LightSail-B demonstrator cubesat, and others. The third and final deployment will be the Air Force Research Lab's DSX spacecraft, which will be delivered to a medium Earth orbit (MEO). This mission will reuse the side cores from Arabsat 6A, which will return to LZ-1, and LZ-2. The new center core will boost back to land on OCISLY less than 40 km from the launch site.\", 'upcoming': False, 'static_fire_date_utc': '2019-06-19T21:52:00.000Z', 'static_fire_date_unix': 1560981120, 'timeline': {'webcast_liftoff': None, 'go_for_prop_loading': -3180, 'stage1_rp1_loading': -3000, 'stage1_lox_loading': -2700, 'stage2_rp1_loading': -2100, 'stage2_lox_loading': -1110, 'engine_chill': -420, 'prelaunch_checks': -90, 'propellant_pressurization': -60, 'go_for_launch': -45, 'ignition': -2, 'liftoff': 0, 'maxq': 42, 'beco': 147, 'side_core_sep': 151, 'side_core_boostback': 169, 'meco': 207, 'center_stage_sep': 211, 'second_stage_ignition': 218, 'fairing_deploy': 243, 'side_core_entry_burn': 433, 'seco-1': 518, 'side_core_landing': 521, 'center_core_entry_burn': 533, 'center_core_landing': 681, 'payload_deploy': 775, 'second_stage_restart': 12447, 'seco-2': 780, 'seco-3': 7684, 'seco-4': 12483}, 'crew': None}\n"
     ]
    }
   ],
   "source": [
    "import requests\n",
    "import json\n",
    "url = \"https://api.spacexdata.com/v3/launches/latest?pretty=true\"\n",
    "request = requests.get(url)\n",
    "data = json.loads(request.content)\n",
    "\n",
    "\n",
    "print(data)"
   ]
  },
  {
   "cell_type": "code",
   "execution_count": null,
   "metadata": {},
   "outputs": [],
   "source": []
  }
 ],
 "metadata": {
  "kernelspec": {
   "display_name": "Python 3",
   "language": "python",
   "name": "python3"
  },
  "language_info": {
   "codemirror_mode": {
    "name": "ipython",
    "version": 3
   },
   "file_extension": ".py",
   "mimetype": "text/x-python",
   "name": "python",
   "nbconvert_exporter": "python",
   "pygments_lexer": "ipython3",
   "version": "3.7.3"
  }
 },
 "nbformat": 4,
 "nbformat_minor": 2
}
