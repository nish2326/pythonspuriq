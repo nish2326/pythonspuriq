{
 "cells": [
  {
   "cell_type": "code",
   "execution_count": 8,
   "metadata": {},
   "outputs": [
    {
     "name": "stdout",
     "output_type": "stream",
     "text": [
      "['pizza', 'watermelon', 'fish', 'chicken']\n",
      "('pizza', 'watermelon', 'fish', 'chicken')\n",
      "{'1': 'pizza', '2': 'watermelon', '3': 'fish', '4': 'chicken'}\n"
     ]
    }
   ],
   "source": [
    "favorite = [\"pizza\", \"watermelon\", \"fish\", \"chicken\"]\n",
    "food = (\"pizza\", \"watermelon\", \"fish\", \"chicken\")\n",
    "favFood = {\n",
    "    \"1\": \"pizza\",\n",
    "    \"2\": \"watermelon\",\n",
    "    \"3\": \"fish\",\n",
    "    \"4\": \"chicken\",\n",
    "}\n",
    "print(favorite)\n",
    "print(food)\n",
    "print(favFood)"
   ]
  },
  {
   "cell_type": "code",
   "execution_count": 9,
   "metadata": {},
   "outputs": [
    {
     "name": "stdout",
     "output_type": "stream",
     "text": [
      "b\n",
      "a\n",
      "n\n",
      "a\n",
      "n\n",
      "a\n"
     ]
    }
   ],
   "source": [
    "for x in \"banana\":\n",
    "    print(x)"
   ]
  },
  {
   "cell_type": "code",
   "execution_count": 10,
   "metadata": {},
   "outputs": [
    {
     "name": "stdout",
     "output_type": "stream",
     "text": [
      "1\n",
      "2\n",
      "3\n",
      "4\n",
      "5\n",
      "6\n",
      "7\n",
      "8\n",
      "9\n"
     ]
    }
   ],
   "source": [
    "x = 1\n",
    "while x < 10:\n",
    "    print(x)\n",
    "    x += 1"
   ]
  },
  {
   "cell_type": "code",
   "execution_count": null,
   "metadata": {},
   "outputs": [],
   "source": []
  }
 ],
 "metadata": {
  "kernelspec": {
   "display_name": "Python 3",
   "language": "python",
   "name": "python3"
  },
  "language_info": {
   "codemirror_mode": {
    "name": "ipython",
    "version": 3
   },
   "file_extension": ".py",
   "mimetype": "text/x-python",
   "name": "python",
   "nbconvert_exporter": "python",
   "pygments_lexer": "ipython3",
   "version": "3.7.3"
  }
 },
 "nbformat": 4,
 "nbformat_minor": 2
}
