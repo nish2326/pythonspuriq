{
 "cells": [
  {
   "cell_type": "markdown",
   "metadata": {},
   "source": [
    "![](https://i0.wp.com/spuriq.com/wp-content/uploads/2019/03/spuriq_site_logo_tagline.png?zoom=2&fit=150%2C69&ssl=1)"
   ]
  },
  {
   "cell_type": "markdown",
   "metadata": {},
   "source": [
    "# Python Basics"
   ]
  },
  {
   "cell_type": "markdown",
   "metadata": {},
   "source": [
    "## Setup"
   ]
  },
  {
   "cell_type": "code",
   "execution_count": 3,
   "metadata": {},
   "outputs": [],
   "source": [
    "import numpy as np"
   ]
  },
  {
   "cell_type": "markdown",
   "metadata": {},
   "source": [
    "## For Loops"
   ]
  },
  {
   "cell_type": "code",
   "execution_count": 70,
   "metadata": {},
   "outputs": [
    {
     "name": "stdout",
     "output_type": "stream",
     "text": [
      "b\n",
      "a\n",
      "n\n",
      "a\n",
      "n\n",
      "a\n"
     ]
    }
   ],
   "source": [
    "for x in \"banana\":\n",
    "    print(x)"
   ]
  },
  {
   "cell_type": "code",
   "execution_count": 71,
   "metadata": {},
   "outputs": [
    {
     "name": "stdout",
     "output_type": "stream",
     "text": [
      "apple\n",
      "banana\n",
      "cherry\n"
     ]
    }
   ],
   "source": [
    "fruits = [\"apple\", \"banana\", \"cherry\"]\n",
    "for x in fruits:\n",
    "    print(x)"
   ]
  },
  {
   "cell_type": "code",
   "execution_count": 6,
   "metadata": {},
   "outputs": [
    {
     "name": "stdout",
     "output_type": "stream",
     "text": [
      "apple\n",
      "banana\n",
      "cherry\n"
     ]
    }
   ],
   "source": [
    "thistuple = (\"apple\", \"banana\", \"cherry\")\n",
    "for x in thistuple:\n",
    "    print(x)"
   ]
  },
  {
   "cell_type": "code",
   "execution_count": 7,
   "metadata": {},
   "outputs": [
    {
     "name": "stdout",
     "output_type": "stream",
     "text": [
      "apple\n",
      "banana\n",
      "cherry\n"
     ]
    }
   ],
   "source": [
    "thisset = {\"apple\", \"banana\", \"cherry\"}\n",
    "for x in thisset:\n",
    "    print(x)"
   ]
  },
  {
   "cell_type": "code",
   "execution_count": 8,
   "metadata": {},
   "outputs": [
    {
     "name": "stdout",
     "output_type": "stream",
     "text": [
      "make\n",
      "model\n",
      "year\n"
     ]
    }
   ],
   "source": [
    "thisdict = {\"make\": \"Ford\", \"model\": \"Mustang\", \"year\": 1964}\n",
    "for x in thisdict:\n",
    "    print(x)"
   ]
  },
  {
   "cell_type": "code",
   "execution_count": 1,
   "metadata": {},
   "outputs": [
    {
     "name": "stdout",
     "output_type": "stream",
     "text": [
      "0\n",
      "1\n",
      "2\n",
      "3\n",
      "4\n",
      "5\n",
      "6\n",
      "7\n",
      "8\n",
      "9\n"
     ]
    }
   ],
   "source": [
    "for x in range(0,10,1):\n",
    "    print(x)"
   ]
  },
  {
   "cell_type": "markdown",
   "metadata": {},
   "source": [
    "## While Loops"
   ]
  },
  {
   "cell_type": "code",
   "execution_count": 39,
   "metadata": {},
   "outputs": [
    {
     "name": "stdout",
     "output_type": "stream",
     "text": [
      "1\n",
      "2\n",
      "3\n",
      "4\n",
      "5\n",
      "6\n",
      "7\n",
      "8\n",
      "9\n"
     ]
    }
   ],
   "source": [
    "x = 1\n",
    "while x < 10:\n",
    "    print(x)\n",
    "    x += 1"
   ]
  },
  {
   "cell_type": "code",
   "execution_count": 45,
   "metadata": {
    "scrolled": true
   },
   "outputs": [
    {
     "name": "stdout",
     "output_type": "stream",
     "text": [
      "0\n",
      "1\n",
      "3\n",
      "6\n",
      "10\n",
      "15\n",
      "21\n",
      "28\n",
      "36\n",
      "45\n",
      "45\n",
      "46\n",
      "48\n",
      "51\n",
      "55\n",
      "60\n",
      "66\n",
      "73\n",
      "81\n",
      "90\n",
      "100\n",
      "111\n",
      "123\n",
      "136\n",
      "150\n",
      "165\n",
      "181\n",
      "198\n",
      "216\n",
      "235\n",
      "255\n",
      "276\n",
      "298\n",
      "321\n",
      "345\n",
      "370\n",
      "396\n",
      "423\n",
      "451\n",
      "480\n",
      "510\n",
      "541\n",
      "573\n",
      "606\n",
      "640\n",
      "675\n",
      "711\n",
      "748\n",
      "786\n",
      "825\n",
      "865\n",
      "906\n",
      "948\n",
      "991\n",
      "1035\n",
      "1080\n",
      "1126\n",
      "1173\n",
      "1221\n",
      "1270\n",
      "1320\n",
      "1371\n",
      "1423\n",
      "1476\n",
      "1530\n",
      "1585\n",
      "1641\n",
      "1698\n",
      "1756\n",
      "1815\n",
      "1875\n",
      "1936\n",
      "1998\n",
      "2061\n",
      "2125\n",
      "2190\n",
      "2256\n",
      "2323\n",
      "2391\n",
      "2460\n",
      "2530\n",
      "2601\n",
      "2673\n",
      "2746\n",
      "2820\n",
      "2895\n",
      "2971\n",
      "3048\n",
      "3126\n",
      "3205\n",
      "3285\n",
      "3366\n",
      "3448\n",
      "3531\n",
      "3615\n",
      "3700\n",
      "3786\n",
      "3873\n",
      "3961\n",
      "4050\n",
      "4140\n",
      "4231\n",
      "4323\n",
      "4416\n",
      "4510\n",
      "4605\n",
      "4701\n",
      "4798\n",
      "4896\n",
      "4995\n",
      "5095\n",
      "5196\n",
      "5298\n",
      "5401\n",
      "5505\n",
      "5610\n",
      "5716\n",
      "5823\n",
      "5931\n",
      "6040\n",
      "6150\n",
      "6261\n",
      "6373\n",
      "6486\n",
      "6600\n",
      "6715\n",
      "6831\n",
      "6948\n",
      "7066\n",
      "7185\n",
      "7305\n",
      "7426\n",
      "7548\n",
      "7671\n",
      "7795\n",
      "7920\n",
      "8046\n",
      "8173\n",
      "8301\n",
      "8430\n",
      "8560\n",
      "8691\n",
      "8823\n",
      "8956\n",
      "9090\n",
      "9225\n",
      "9361\n",
      "9498\n",
      "9636\n",
      "9775\n",
      "9915\n",
      "10056\n",
      "10198\n",
      "10341\n",
      "10485\n",
      "10630\n",
      "10776\n",
      "10923\n",
      "11071\n",
      "11220\n",
      "11370\n",
      "11521\n",
      "11673\n",
      "11826\n",
      "11980\n",
      "12135\n",
      "12291\n",
      "12448\n",
      "12606\n",
      "12765\n",
      "12925\n",
      "13086\n",
      "13248\n",
      "13411\n",
      "13575\n",
      "13740\n",
      "13906\n",
      "14073\n",
      "14241\n",
      "14410\n",
      "14580\n",
      "14751\n",
      "14923\n",
      "15096\n",
      "15270\n",
      "15445\n",
      "15621\n",
      "15798\n",
      "15976\n",
      "16155\n",
      "16335\n",
      "16516\n",
      "16698\n",
      "16881\n",
      "17065\n",
      "17250\n",
      "17436\n",
      "17623\n",
      "17811\n",
      "18000\n",
      "18190\n",
      "18381\n",
      "18573\n",
      "18766\n",
      "18960\n",
      "19155\n",
      "19351\n",
      "19548\n",
      "19746\n",
      "19945\n",
      "20145\n",
      "20346\n",
      "20548\n",
      "20751\n",
      "20955\n",
      "21160\n",
      "21366\n",
      "21573\n",
      "21781\n",
      "21990\n",
      "22200\n",
      "22411\n",
      "22623\n",
      "22836\n",
      "23050\n",
      "23265\n",
      "23481\n",
      "23698\n",
      "23916\n",
      "24135\n",
      "24355\n",
      "24576\n",
      "24798\n",
      "25021\n",
      "25245\n",
      "25470\n",
      "25696\n",
      "25923\n",
      "26151\n",
      "26380\n",
      "26610\n",
      "26841\n",
      "27073\n",
      "27306\n",
      "27540\n",
      "27775\n",
      "28011\n",
      "28248\n",
      "28486\n",
      "28725\n",
      "28965\n",
      "29206\n",
      "29448\n",
      "29691\n",
      "29935\n",
      "30180\n",
      "30426\n",
      "30673\n",
      "30921\n",
      "31170\n",
      "31420\n",
      "31671\n",
      "31923\n",
      "32176\n",
      "32430\n",
      "32685\n",
      "32941\n",
      "33198\n",
      "33456\n",
      "33715\n",
      "33975\n",
      "34236\n",
      "34498\n",
      "34761\n",
      "35025\n",
      "35290\n",
      "35556\n",
      "35823\n",
      "36091\n",
      "36360\n",
      "36630\n",
      "36901\n",
      "37173\n",
      "37446\n",
      "37720\n",
      "37995\n",
      "38271\n",
      "38548\n",
      "38826\n",
      "39105\n",
      "39385\n",
      "39666\n",
      "39948\n",
      "40231\n",
      "40515\n",
      "40800\n",
      "41086\n",
      "41373\n",
      "41661\n",
      "41950\n",
      "42240\n",
      "42531\n",
      "42823\n",
      "43116\n",
      "43410\n",
      "43705\n",
      "44001\n",
      "44298\n",
      "44596\n",
      "44895\n",
      "45195\n",
      "45496\n",
      "45798\n",
      "46101\n",
      "46405\n",
      "46710\n",
      "47016\n",
      "47323\n",
      "47631\n",
      "47940\n",
      "48250\n",
      "48561\n",
      "48873\n",
      "49186\n",
      "49500\n",
      "49815\n",
      "50131\n",
      "50448\n",
      "50766\n",
      "51085\n",
      "51405\n",
      "51726\n",
      "52048\n",
      "52371\n",
      "52695\n",
      "53020\n",
      "53346\n",
      "53673\n",
      "54001\n",
      "54330\n",
      "54660\n",
      "54991\n",
      "55323\n",
      "55656\n",
      "55990\n",
      "56325\n",
      "56661\n",
      "56998\n",
      "57336\n",
      "57675\n",
      "58015\n",
      "58356\n",
      "58698\n",
      "59041\n",
      "59385\n",
      "59730\n",
      "60076\n",
      "60423\n",
      "60771\n",
      "61120\n",
      "61470\n",
      "61821\n",
      "62173\n",
      "62526\n",
      "62880\n",
      "63235\n",
      "63591\n",
      "63948\n",
      "64306\n",
      "64665\n",
      "65025\n",
      "65386\n",
      "65748\n",
      "66111\n",
      "66475\n",
      "66840\n",
      "67206\n",
      "67573\n",
      "67941\n",
      "68310\n",
      "68680\n",
      "69051\n",
      "69423\n",
      "69796\n",
      "70170\n",
      "70545\n",
      "70921\n",
      "71298\n",
      "71676\n",
      "72055\n",
      "72435\n",
      "72816\n",
      "73198\n",
      "73581\n",
      "73965\n",
      "74350\n",
      "74736\n",
      "75123\n",
      "75511\n",
      "75900\n",
      "76290\n",
      "76681\n",
      "77073\n",
      "77466\n",
      "77860\n",
      "78255\n",
      "78651\n",
      "79048\n",
      "79446\n",
      "79845\n",
      "80245\n",
      "80646\n",
      "81048\n",
      "81451\n",
      "81855\n",
      "82260\n",
      "82666\n",
      "83073\n",
      "83481\n",
      "83890\n",
      "84300\n",
      "84711\n",
      "85123\n",
      "85536\n",
      "85950\n",
      "86365\n",
      "86781\n",
      "87198\n",
      "87616\n",
      "88035\n",
      "88455\n",
      "88876\n",
      "89298\n",
      "89721\n",
      "90145\n",
      "90570\n",
      "90996\n",
      "91423\n",
      "91851\n",
      "92280\n",
      "92710\n",
      "93141\n",
      "93573\n",
      "94006\n",
      "94440\n",
      "94875\n",
      "95311\n",
      "95748\n",
      "96186\n",
      "96625\n",
      "97065\n",
      "97506\n",
      "97948\n",
      "98391\n",
      "98835\n",
      "99280\n",
      "99726\n",
      "100173\n",
      "100621\n",
      "101070\n",
      "101520\n",
      "101971\n",
      "102423\n",
      "102876\n",
      "103330\n",
      "103785\n",
      "104241\n",
      "104698\n",
      "105156\n",
      "105615\n",
      "106075\n",
      "106536\n",
      "106998\n",
      "107461\n",
      "107925\n",
      "108390\n",
      "108856\n",
      "109323\n",
      "109791\n",
      "110260\n",
      "110730\n",
      "111201\n",
      "111673\n",
      "112146\n",
      "112620\n",
      "113095\n",
      "113571\n",
      "114048\n",
      "114526\n",
      "115005\n",
      "115485\n",
      "115966\n",
      "116448\n",
      "116931\n",
      "117415\n",
      "117900\n",
      "118386\n",
      "118873\n",
      "119361\n",
      "119850\n",
      "120340\n",
      "120831\n",
      "121323\n",
      "121816\n",
      "122310\n",
      "122805\n",
      "123301\n",
      "123798\n",
      "124296\n",
      "124795\n",
      "125295\n",
      "125796\n",
      "126298\n",
      "126801\n",
      "127305\n",
      "127810\n",
      "128316\n",
      "128823\n",
      "129331\n",
      "129840\n",
      "130350\n",
      "130861\n",
      "131373\n",
      "131886\n",
      "132400\n",
      "132915\n",
      "133431\n",
      "133948\n",
      "134466\n",
      "134985\n",
      "135505\n",
      "136026\n",
      "136548\n",
      "137071\n",
      "137595\n",
      "138120\n",
      "138646\n",
      "139173\n",
      "139701\n",
      "140230\n",
      "140760\n",
      "141291\n",
      "141823\n",
      "142356\n",
      "142890\n",
      "143425\n",
      "143961\n",
      "144498\n",
      "145036\n",
      "145575\n",
      "146115\n",
      "146656\n",
      "147198\n",
      "147741\n",
      "148285\n",
      "148830\n",
      "149376\n",
      "149923\n",
      "150471\n",
      "151020\n",
      "151570\n",
      "152121\n",
      "152673\n",
      "153226\n",
      "153780\n",
      "154335\n",
      "154891\n",
      "155448\n",
      "156006\n",
      "156565\n",
      "157125\n",
      "157686\n",
      "158248\n",
      "158811\n",
      "159375\n",
      "159940\n",
      "160506\n",
      "161073\n",
      "161641\n",
      "162210\n",
      "162780\n",
      "163351\n",
      "163923\n",
      "164496\n",
      "165070\n",
      "165645\n",
      "166221\n",
      "166798\n",
      "167376\n",
      "167955\n",
      "168535\n",
      "169116\n",
      "169698\n",
      "170281\n",
      "170865\n",
      "171450\n",
      "172036\n",
      "172623\n",
      "173211\n",
      "173800\n",
      "174390\n",
      "174981\n",
      "175573\n",
      "176166\n",
      "176760\n",
      "177355\n",
      "177951\n",
      "178548\n",
      "179146\n",
      "179745\n",
      "180345\n",
      "180946\n",
      "181548\n",
      "182151\n",
      "182755\n",
      "183360\n",
      "183966\n",
      "184573\n",
      "185181\n",
      "185790\n",
      "186400\n",
      "187011\n",
      "187623\n",
      "188236\n",
      "188850\n",
      "189465\n",
      "190081\n",
      "190698\n",
      "191316\n",
      "191935\n",
      "192555\n",
      "193176\n",
      "193798\n",
      "194421\n",
      "195045\n",
      "195670\n",
      "196296\n",
      "196923\n",
      "197551\n",
      "198180\n",
      "198810\n",
      "199441\n",
      "200073\n",
      "200706\n",
      "201340\n",
      "201975\n",
      "202611\n",
      "203248\n",
      "203886\n",
      "204525\n",
      "205165\n",
      "205806\n",
      "206448\n",
      "207091\n",
      "207735\n",
      "208380\n",
      "209026\n",
      "209673\n",
      "210321\n",
      "210970\n",
      "211620\n",
      "212271\n",
      "212923\n",
      "213576\n",
      "214230\n",
      "214885\n",
      "215541\n",
      "216198\n",
      "216856\n",
      "217515\n",
      "218175\n",
      "218836\n",
      "219498\n",
      "220161\n",
      "220825\n",
      "221490\n",
      "222156\n",
      "222823\n",
      "223491\n",
      "224160\n",
      "224830\n",
      "225501\n",
      "226173\n",
      "226846\n",
      "227520\n",
      "228195\n",
      "228871\n",
      "229548\n",
      "230226\n",
      "230905\n",
      "231585\n",
      "232266\n",
      "232948\n",
      "233631\n",
      "234315\n",
      "235000\n",
      "235686\n",
      "236373\n",
      "237061\n",
      "237750\n",
      "238440\n",
      "239131\n",
      "239823\n",
      "240516\n",
      "241210\n",
      "241905\n",
      "242601\n",
      "243298\n",
      "243996\n",
      "244695\n",
      "245395\n",
      "246096\n",
      "246798\n",
      "247501\n",
      "248205\n",
      "248910\n",
      "249616\n",
      "250323\n",
      "251031\n",
      "251740\n",
      "252450\n",
      "253161\n",
      "253873\n",
      "254586\n",
      "255300\n",
      "256015\n",
      "256731\n",
      "257448\n",
      "258166\n",
      "258885\n",
      "259605\n",
      "260326\n",
      "261048\n",
      "261771\n",
      "262495\n",
      "263220\n",
      "263946\n",
      "264673\n",
      "265401\n",
      "266130\n",
      "266860\n",
      "267591\n",
      "268323\n",
      "269056\n",
      "269790\n",
      "270525\n",
      "271261\n",
      "271998\n",
      "272736\n",
      "273475\n",
      "274215\n",
      "274956\n",
      "275698\n",
      "276441\n",
      "277185\n",
      "277930\n",
      "278676\n",
      "279423\n",
      "280171\n",
      "280920\n",
      "281670\n",
      "282421\n",
      "283173\n",
      "283926\n",
      "284680\n",
      "285435\n",
      "286191\n",
      "286948\n",
      "287706\n",
      "288465\n",
      "289225\n",
      "289986\n",
      "290748\n",
      "291511\n",
      "292275\n",
      "293040\n",
      "293806\n",
      "294573\n",
      "295341\n",
      "296110\n",
      "296880\n",
      "297651\n",
      "298423\n",
      "299196\n",
      "299970\n",
      "300745\n",
      "301521\n",
      "302298\n",
      "303076\n",
      "303855\n",
      "304635\n",
      "305416\n",
      "306198\n",
      "306981\n",
      "307765\n",
      "308550\n",
      "309336\n",
      "310123\n",
      "310911\n",
      "311700\n",
      "312490\n",
      "313281\n",
      "314073\n",
      "314866\n",
      "315660\n",
      "316455\n",
      "317251\n",
      "318048\n",
      "318846\n",
      "319645\n",
      "320445\n",
      "321246\n",
      "322048\n",
      "322851\n",
      "323655\n",
      "324460\n",
      "325266\n",
      "326073\n",
      "326881\n",
      "327690\n",
      "328500\n",
      "329311\n",
      "330123\n",
      "330936\n",
      "331750\n",
      "332565\n",
      "333381\n",
      "334198\n",
      "335016\n",
      "335835\n",
      "336655\n",
      "337476\n",
      "338298\n",
      "339121\n",
      "339945\n",
      "340770\n",
      "341596\n",
      "342423\n",
      "343251\n",
      "344080\n",
      "344910\n",
      "345741\n",
      "346573\n",
      "347406\n",
      "348240\n",
      "349075\n",
      "349911\n",
      "350748\n",
      "351586\n",
      "352425\n",
      "353265\n",
      "354106\n",
      "354948\n",
      "355791\n",
      "356635\n",
      "357480\n",
      "358326\n",
      "359173\n",
      "360021\n",
      "360870\n",
      "361720\n",
      "362571\n",
      "363423\n",
      "364276\n",
      "365130\n",
      "365985\n",
      "366841\n",
      "367698\n",
      "368556\n",
      "369415\n",
      "370275\n",
      "371136\n",
      "371998\n",
      "372861\n",
      "373725\n",
      "374590\n",
      "375456\n",
      "376323\n",
      "377191\n",
      "378060\n",
      "378930\n",
      "379801\n",
      "380673\n",
      "381546\n",
      "382420\n",
      "383295\n",
      "384171\n",
      "385048\n",
      "385926\n",
      "386805\n",
      "387685\n",
      "388566\n",
      "389448\n",
      "390331\n",
      "391215\n",
      "392100\n",
      "392986\n",
      "393873\n",
      "394761\n",
      "395650\n",
      "396540\n",
      "397431\n",
      "398323\n",
      "399216\n",
      "400110\n",
      "401005\n",
      "401901\n",
      "402798\n",
      "403696\n",
      "404595\n",
      "405495\n",
      "406396\n",
      "407298\n",
      "408201\n",
      "409105\n",
      "410010\n",
      "410916\n",
      "411823\n",
      "412731\n",
      "413640\n",
      "414550\n",
      "415461\n",
      "416373\n",
      "417286\n",
      "418200\n",
      "419115\n",
      "420031\n",
      "420948\n",
      "421866\n",
      "422785\n",
      "423705\n",
      "424626\n",
      "425548\n",
      "426471\n",
      "427395\n",
      "428320\n",
      "429246\n",
      "430173\n",
      "431101\n",
      "432030\n",
      "432960\n",
      "433891\n",
      "434823\n",
      "435756\n",
      "436690\n",
      "437625\n",
      "438561\n",
      "439498\n",
      "440436\n",
      "441375\n",
      "442315\n",
      "443256\n",
      "444198\n",
      "445141\n",
      "446085\n",
      "447030\n",
      "447976\n",
      "448923\n",
      "449871\n",
      "450820\n",
      "451770\n",
      "452721\n",
      "453673\n",
      "454626\n",
      "455580\n",
      "456535\n",
      "457491\n",
      "458448\n",
      "459406\n",
      "460365\n",
      "461325\n",
      "462286\n",
      "463248\n",
      "464211\n",
      "465175\n",
      "466140\n",
      "467106\n",
      "468073\n",
      "469041\n",
      "470010\n",
      "470980\n",
      "471951\n",
      "472923\n",
      "473896\n",
      "474870\n",
      "475845\n",
      "476821\n",
      "477798\n",
      "478776\n",
      "479755\n",
      "480735\n",
      "481716\n",
      "482698\n",
      "483681\n",
      "484665\n",
      "485650\n",
      "486636\n",
      "487623\n",
      "488611\n",
      "489600\n",
      "490590\n",
      "491581\n",
      "492573\n",
      "493566\n",
      "494560\n",
      "495555\n",
      "496551\n",
      "497548\n",
      "498546\n",
      "499545\n"
     ]
    }
   ],
   "source": [
    "sum = 0\n",
    "i = 0\n",
    "\n",
    "while i<10:\n",
    "    sum = sum + i\n",
    "    print (sum)\n",
    "    i = i + 1\n",
    "\n",
    "for i in range(1000):\n",
    "    sum = sum + i\n",
    "    print (sum)"
   ]
  },
  {
   "cell_type": "markdown",
   "metadata": {},
   "source": [
    "## Break Statement"
   ]
  },
  {
   "cell_type": "code",
   "execution_count": 3,
   "metadata": {},
   "outputs": [
    {
     "name": "stdout",
     "output_type": "stream",
     "text": [
      "1\n",
      "2\n",
      "3\n"
     ]
    }
   ],
   "source": [
    "x = 1\n",
    "while x < 10:\n",
    "    print(x)\n",
    "    if x == 3:\n",
    "        break\n",
    "    x += 1"
   ]
  },
  {
   "cell_type": "markdown",
   "metadata": {},
   "source": [
    "## Continue Statement"
   ]
  },
  {
   "cell_type": "code",
   "execution_count": 4,
   "metadata": {},
   "outputs": [
    {
     "name": "stdout",
     "output_type": "stream",
     "text": [
      "1\n",
      "2\n",
      "4\n",
      "5\n",
      "6\n",
      "7\n",
      "8\n",
      "9\n",
      "10\n"
     ]
    }
   ],
   "source": [
    "x = 0\n",
    "while x < 10:\n",
    "    x += 1 \n",
    "    if x == 3:\n",
    "        continue\n",
    "    print(x)"
   ]
  },
  {
   "cell_type": "markdown",
   "metadata": {},
   "source": [
    "## Functions"
   ]
  },
  {
   "cell_type": "code",
   "execution_count": 5,
   "metadata": {},
   "outputs": [],
   "source": [
    "def myFunction():\n",
    "    print(\"Hello from myFunction.\")"
   ]
  },
  {
   "cell_type": "code",
   "execution_count": 6,
   "metadata": {},
   "outputs": [
    {
     "name": "stdout",
     "output_type": "stream",
     "text": [
      "Hello from myFunction.\n"
     ]
    }
   ],
   "source": [
    "myFunction()"
   ]
  },
  {
   "cell_type": "code",
   "execution_count": 46,
   "metadata": {},
   "outputs": [
    {
     "name": "stdout",
     "output_type": "stream",
     "text": [
      "My name is smyra\n",
      "My name is jack\n"
     ]
    }
   ],
   "source": [
    "def myFunction(myName):\n",
    "    print(\"My name is \" + myName)\n",
    "myFunction(\"smyra\")\n",
    "myFunction(\"jack\")"
   ]
  },
  {
   "cell_type": "code",
   "execution_count": 47,
   "metadata": {},
   "outputs": [
    {
     "name": "stdout",
     "output_type": "stream",
     "text": [
      "I am from footville\n",
      "I am from Sweden\n"
     ]
    }
   ],
   "source": [
    "def myFunction(country = \"footville\"):\n",
    "    print(\"I am from \" + country)\n",
    "myFunction()\n",
    "myFunction(\"North Korea\")"
   ]
  },
  {
   "cell_type": "code",
   "execution_count": 9,
   "metadata": {},
   "outputs": [
    {
     "name": "stdout",
     "output_type": "stream",
     "text": [
      "apple\n",
      "banana\n",
      "cherry\n"
     ]
    }
   ],
   "source": [
    "def myFunction(food):\n",
    "    for x in food:\n",
    "        print(x)\n",
    "fruits = [\"apple\", \"banana\", \"cherry\"]\n",
    "myFunction(fruits)"
   ]
  },
  {
   "cell_type": "code",
   "execution_count": 10,
   "metadata": {},
   "outputs": [
    {
     "name": "stdout",
     "output_type": "stream",
     "text": [
      "6\n",
      "12\n"
     ]
    }
   ],
   "source": [
    "def myFunction(x):\n",
    "    return 2 * x\n",
    "y = myFunction(3)\n",
    "z = myFunction(6)\n",
    "print(y)\n",
    "print(z)"
   ]
  },
  {
   "cell_type": "markdown",
   "metadata": {},
   "source": [
    "## Modules"
   ]
  },
  {
   "cell_type": "code",
   "execution_count": 11,
   "metadata": {},
   "outputs": [],
   "source": [
    "person1 = {\"name\": \"Jonathan\", \"age\": 16, \"country\": \"United States\"}\n",
    "def greeting(name):\n",
    "    print(\"Hello, \" + name)"
   ]
  },
  {
   "cell_type": "code",
   "execution_count": 12,
   "metadata": {},
   "outputs": [
    {
     "name": "stdout",
     "output_type": "stream",
     "text": [
      "Hello, Jonathan\n"
     ]
    }
   ],
   "source": [
    "import mymodule\n",
    "a = mymodule.person1[\"name\"]\n",
    "mymodule.greeting(a)          # this prints \"Hello, Jonathan\""
   ]
  },
  {
   "cell_type": "code",
   "execution_count": 13,
   "metadata": {},
   "outputs": [
    {
     "name": "stdout",
     "output_type": "stream",
     "text": [
      "Hello, Jonathan\n"
     ]
    }
   ],
   "source": [
    "import mymodule as mm\n",
    "mm.greeting(\"Jonathan\")       # this returns \"Hello, Jonathan\""
   ]
  },
  {
   "cell_type": "code",
   "execution_count": 14,
   "metadata": {},
   "outputs": [
    {
     "name": "stdout",
     "output_type": "stream",
     "text": [
      "[ 3  6  9 12]\n",
      "[1. 2. 3. 4.]\n"
     ]
    }
   ],
   "source": [
    "import numpy as np\n",
    "y = np.array([3, 6, 9, 12])\n",
    "print(y)\n",
    "y = y/3\n",
    "print(y)"
   ]
  },
  {
   "cell_type": "markdown",
   "metadata": {},
   "source": [
    "## Input Files"
   ]
  },
  {
   "cell_type": "code",
   "execution_count": 15,
   "metadata": {},
   "outputs": [],
   "source": [
    "f = open(\"testFile.txt\", \"r\")"
   ]
  },
  {
   "cell_type": "code",
   "execution_count": 16,
   "metadata": {},
   "outputs": [
    {
     "name": "stdout",
     "output_type": "stream",
     "text": [
      "Now we've deleted the content!\n"
     ]
    }
   ],
   "source": [
    "f = open(\"testFile.txt\", \"r\")\n",
    "print(f.read())"
   ]
  },
  {
   "cell_type": "code",
   "execution_count": 17,
   "metadata": {},
   "outputs": [
    {
     "name": "stdout",
     "output_type": "stream",
     "text": [
      "Now w\n"
     ]
    }
   ],
   "source": [
    "f = open(\"testFile.txt\", \"r\")\n",
    "print(f.read(5))"
   ]
  },
  {
   "cell_type": "code",
   "execution_count": 18,
   "metadata": {},
   "outputs": [
    {
     "name": "stdout",
     "output_type": "stream",
     "text": [
      "Now we've deleted the content!\n",
      "\n",
      "\n"
     ]
    }
   ],
   "source": [
    "f = open(\"testFile.txt\", \"r\")\n",
    "print(f.readline())      # reads the first line\n",
    "print(f.readline())      # reads the second line\n",
    "print(f.readline())      # reads the third line"
   ]
  },
  {
   "cell_type": "code",
   "execution_count": 19,
   "metadata": {},
   "outputs": [
    {
     "name": "stdout",
     "output_type": "stream",
     "text": [
      "Now we've deleted the content!\n"
     ]
    }
   ],
   "source": [
    "f = open(\"testFile.txt\", \"r\")\n",
    "for x in f:\n",
    "    print(x)"
   ]
  },
  {
   "cell_type": "code",
   "execution_count": 20,
   "metadata": {},
   "outputs": [],
   "source": [
    "f.close()"
   ]
  },
  {
   "cell_type": "markdown",
   "metadata": {},
   "source": [
    "## Output Files"
   ]
  },
  {
   "cell_type": "code",
   "execution_count": 21,
   "metadata": {},
   "outputs": [
    {
     "name": "stdout",
     "output_type": "stream",
     "text": [
      "Now we've deleted the content!\n",
      "Adding more content!\n"
     ]
    }
   ],
   "source": [
    "f = open(\"testFile.txt\", \"a\")\n",
    "f.write(\"\\nAdding more content!\")\n",
    "f.close()\n",
    "f = open(\"testFile.txt\", \"r\")\n",
    "print(f.read())"
   ]
  },
  {
   "cell_type": "code",
   "execution_count": 22,
   "metadata": {},
   "outputs": [
    {
     "name": "stdout",
     "output_type": "stream",
     "text": [
      "Now we've deleted the content!\n"
     ]
    }
   ],
   "source": [
    "f = open(\"testFile.txt\", \"w\")\n",
    "f.write(\"Now we've deleted the content!\")\n",
    "f.close()\n",
    "f = open(\"testFile.txt\", \"r\")\n",
    "print(f.read())"
   ]
  },
  {
   "cell_type": "code",
   "execution_count": 26,
   "metadata": {},
   "outputs": [
    {
     "name": "stdout",
     "output_type": "stream",
     "text": [
      "Hello! Welcome to testfile.txt\n",
      "This file is for testing purposes.\n",
      "Good Luck!\n"
     ]
    }
   ],
   "source": [
    "f = open(\"testFile.txt\", \"w\")\n",
    "f.write(\"Hello! Welcome to testfile.txt\\nThis file is for testing purposes.\\nGood Luck!\")\n",
    "f.close()\n",
    "f = open(\"testFile.txt\", \"r\")\n",
    "print(f.read())"
   ]
  },
  {
   "cell_type": "code",
   "execution_count": 24,
   "metadata": {},
   "outputs": [],
   "source": [
    "f = open(\"myfile.txt\", \"x\")\n",
    "f.close()"
   ]
  },
  {
   "cell_type": "markdown",
   "metadata": {},
   "source": [
    "## Exceptions"
   ]
  },
  {
   "cell_type": "code",
   "execution_count": 25,
   "metadata": {},
   "outputs": [],
   "source": [
    "del x"
   ]
  },
  {
   "cell_type": "code",
   "execution_count": 62,
   "metadata": {},
   "outputs": [
    {
     "name": "stdout",
     "output_type": "stream",
     "text": [
      "An exception occurred\n"
     ]
    }
   ],
   "source": [
    "try:\n",
    "    print(x)\n",
    "except:\n",
    "    print(\"An exception occurred\")"
   ]
  },
  {
   "cell_type": "code",
   "execution_count": 63,
   "metadata": {},
   "outputs": [
    {
     "name": "stdout",
     "output_type": "stream",
     "text": [
      "Variable x is not defined.\n"
     ]
    }
   ],
   "source": [
    "try:\n",
    "    print(x)\n",
    "except NameError:\n",
    "    print(\"Variable x is not defined.\")\n",
    "except:\n",
    "    print(\"Something else went wrong!\")"
   ]
  },
  {
   "cell_type": "code",
   "execution_count": 64,
   "metadata": {},
   "outputs": [
    {
     "name": "stdout",
     "output_type": "stream",
     "text": [
      "Hello!\n",
      "Nothing went wrong!\n"
     ]
    }
   ],
   "source": [
    "try:\n",
    "    print(\"Hello!\")\n",
    "except:\n",
    "    print(\"Something went wrong!\")\n",
    "else:\n",
    "    print(\"Nothing went wrong!\")"
   ]
  },
  {
   "cell_type": "code",
   "execution_count": 65,
   "metadata": {},
   "outputs": [
    {
     "name": "stdout",
     "output_type": "stream",
     "text": [
      "Hello!\n",
      "Nothing went wrong!\n",
      "The 'try except' is finished.\n"
     ]
    }
   ],
   "source": [
    "try:\n",
    "    print(\"Hello!\")\n",
    "except:\n",
    "    print(\"Something went wrong!\")\n",
    "else:\n",
    "    print(\"Nothing went wrong!\")\n",
    "finally:\n",
    "    print(\"The 'try except' is finished.\")"
   ]
  },
  {
   "cell_type": "markdown",
   "metadata": {},
   "source": [
    "## User Input"
   ]
  },
  {
   "cell_type": "code",
   "execution_count": 58,
   "metadata": {
    "scrolled": true
   },
   "outputs": [
    {
     "name": "stdout",
     "output_type": "stream",
     "text": [
      "whats ur age?:11\n",
      "In 50 years youll be me, 61.\n"
     ]
    }
   ],
   "source": [
    "x = input('whats ur age?:')\n",
    "y = int(x) + 50\n",
    "print(\"In 50 years youll be me, \" + str(y) + \".\")"
   ]
  },
  {
   "cell_type": "code",
   "execution_count": 60,
   "metadata": {},
   "outputs": [
    {
     "name": "stdout",
     "output_type": "stream",
     "text": [
      "Whats your namenish\n",
      "hello, nish\n"
     ]
    }
   ],
   "source": [
    "name = input(\"Whats your name\")\n",
    "print(\"hello,\", name )"
   ]
  },
  {
   "cell_type": "code",
   "execution_count": null,
   "metadata": {},
   "outputs": [],
   "source": []
  }
 ],
 "metadata": {
  "kernelspec": {
   "display_name": "Python 3",
   "language": "python",
   "name": "python3"
  },
  "language_info": {
   "codemirror_mode": {
    "name": "ipython",
    "version": 3
   },
   "file_extension": ".py",
   "mimetype": "text/x-python",
   "name": "python",
   "nbconvert_exporter": "python",
   "pygments_lexer": "ipython3",
   "version": "3.7.3"
  }
 },
 "nbformat": 4,
 "nbformat_minor": 2
}
