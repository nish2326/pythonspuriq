{
 "cells": [
  {
   "cell_type": "code",
   "execution_count": null,
   "metadata": {
    "scrolled": true
   },
   "outputs": [
    {
     "name": "stdout",
     "output_type": "stream",
     "text": [
      "your move: r\n",
      "You:  r\n",
      "Me:  p\n",
      "take the freaking L!\n",
      "your move: p\n",
      "You:  p\n",
      "Me:  r\n",
      "you win!\n",
      "your move: s\n",
      "You:  s\n",
      "Me:  r\n",
      "take the freaking L!\n",
      "your move: l\n",
      "You:  l\n",
      "Me:  s\n",
      "take the freaking L!\n",
      "your move: r\n",
      "You:  r\n",
      "Me:  r\n",
      "tie\n",
      "your move: r\n",
      "You:  r\n",
      "Me:  r\n",
      "tie\n",
      "your move: s\n",
      "You:  s\n",
      "Me:  r\n",
      "take the freaking L!\n",
      "your move: p\n",
      "You:  p\n",
      "Me:  r\n",
      "you win!\n"
     ]
    }
   ],
   "source": [
    "import random\n",
    "   \n",
    "while True:\n",
    "    moves = [\"r\", \"p\", \"s\"]\n",
    "    player_wins = [\"pr\", \"sp\", \"rs\"]\n",
    "\n",
    "    player_move = input(\"your move: \")\n",
    "    computer_move = random.choice(moves)\n",
    "    \n",
    "    if player_move == \"q\":\n",
    "        break\n",
    "\n",
    "    print(\"You: \", player_move)\n",
    "    print(\"Me: \", computer_move)\n",
    "\n",
    "    if player_move == computer_move:\n",
    "        print(\"tie\")\n",
    "    elif player_move + computer_move in player_wins:\n",
    "        print(\"you win!\")\n",
    "    else:\n",
    "        print(\"take the freaking L!\")"
   ]
  },
  {
   "cell_type": "code",
   "execution_count": null,
   "metadata": {},
   "outputs": [],
   "source": []
  },
  {
   "cell_type": "code",
   "execution_count": null,
   "metadata": {},
   "outputs": [],
   "source": []
  }
 ],
 "metadata": {
  "kernelspec": {
   "display_name": "Python 3",
   "language": "python",
   "name": "python3"
  },
  "language_info": {
   "codemirror_mode": {
    "name": "ipython",
    "version": 3
   },
   "file_extension": ".py",
   "mimetype": "text/x-python",
   "name": "python",
   "nbconvert_exporter": "python",
   "pygments_lexer": "ipython3",
   "version": "3.7.3"
  }
 },
 "nbformat": 4,
 "nbformat_minor": 2
}
